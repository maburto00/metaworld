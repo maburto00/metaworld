{
 "cells": [
  {
   "cell_type": "markdown",
   "id": "b300ac64-b912-4ee1-a0c7-47746e0161ba",
   "metadata": {},
   "source": [
    "# Mujoco Render"
   ]
  },
  {
   "cell_type": "code",
   "execution_count": 1,
   "id": "b3eb207b-900c-4827-aacd-b954e90ce362",
   "metadata": {},
   "outputs": [],
   "source": [
    "#refernece https://colab.research.google.com/github/deepmind/dm_control/blob/main/dm_control/mujoco/tutorial.ipynb"
   ]
  },
  {
   "cell_type": "code",
   "execution_count": null,
   "id": "28ed5bf2-5494-433a-a96c-423ce9c663b7",
   "metadata": {},
   "outputs": [],
   "source": []
  }
 ],
 "metadata": {
  "kernelspec": {
   "display_name": "Python 3 (ipykernel)",
   "language": "python",
   "name": "python3"
  },
  "language_info": {
   "codemirror_mode": {
    "name": "ipython",
    "version": 3
   },
   "file_extension": ".py",
   "mimetype": "text/x-python",
   "name": "python",
   "nbconvert_exporter": "python",
   "pygments_lexer": "ipython3",
   "version": "3.8.16"
  }
 },
 "nbformat": 4,
 "nbformat_minor": 5
}
