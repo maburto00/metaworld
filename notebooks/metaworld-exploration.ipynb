{
 "cells": [
  {
   "cell_type": "markdown",
   "id": "b10f6f8f",
   "metadata": {},
   "source": [
    "# Meta World Exploration\n",
    "\n",
    "I just want to do some experiments on how to use metaworld and also check if I can use it okay"
   ]
  },
  {
   "cell_type": "code",
   "execution_count": 1,
   "id": "0c0ad8a9",
   "metadata": {},
   "outputs": [
    {
     "name": "stderr",
     "output_type": "stream",
     "text": [
      "/work/marioeduardo-a/miniconda3/envs/metaworld/lib/python3.8/site-packages/gym/spaces/box.py:127: UserWarning: \u001b[33mWARN: Box bound precision lowered by casting to float32\u001b[0m\n",
      "  logger.warn(f\"Box bound precision lowered by casting to {self.dtype}\")\n"
     ]
    },
    {
     "name": "stdout",
     "output_type": "stream",
     "text": [
      "['assembly-v2', 'basketball-v2', 'bin-picking-v2', 'box-close-v2', 'button-press-topdown-v2', 'button-press-topdown-wall-v2', 'button-press-v2', 'button-press-wall-v2', 'coffee-button-v2', 'coffee-pull-v2', 'coffee-push-v2', 'dial-turn-v2', 'disassemble-v2', 'door-close-v2', 'door-lock-v2', 'door-open-v2', 'door-unlock-v2', 'hand-insert-v2', 'drawer-close-v2', 'drawer-open-v2', 'faucet-open-v2', 'faucet-close-v2', 'hammer-v2', 'handle-press-side-v2', 'handle-press-v2', 'handle-pull-side-v2', 'handle-pull-v2', 'lever-pull-v2', 'peg-insert-side-v2', 'pick-place-wall-v2', 'pick-out-of-hole-v2', 'reach-v2', 'push-back-v2', 'push-v2', 'pick-place-v2', 'plate-slide-v2', 'plate-slide-side-v2', 'plate-slide-back-v2', 'plate-slide-back-side-v2', 'peg-unplug-side-v2', 'soccer-v2', 'stick-push-v2', 'stick-pull-v2', 'push-wall-v2', 'reach-wall-v2', 'shelf-place-v2', 'sweep-into-v2', 'sweep-v2', 'window-open-v2', 'window-close-v2']\n"
     ]
    },
    {
     "name": "stderr",
     "output_type": "stream",
     "text": [
      "/work/marioeduardo-a/miniconda3/envs/metaworld/lib/python3.8/site-packages/gym/spaces/box.py:127: UserWarning: \u001b[33mWARN: Box bound precision lowered by casting to float32\u001b[0m\n",
      "  logger.warn(f\"Box bound precision lowered by casting to {self.dtype}\")\n"
     ]
    }
   ],
   "source": [
    "import metaworld\n",
    "import random\n",
    "\n",
    "print(metaworld.ML1.ENV_NAMES)  # Check out the available environments\n",
    "\n",
    "ml1 = metaworld.ML1('pick-place-v2') # Construct the benchmark, sampling tasks\n",
    "\n",
    "env = ml1.train_classes['pick-place-v2']()  # Create an environment with task `pick_place`\n",
    "task = random.choice(ml1.train_tasks)\n",
    "env.set_task(task)  # Set task\n",
    "\n",
    "obs = env.reset()  # Reset environment\n",
    "a = env.action_space.sample()  # Sample an action\n",
    "obs, reward, done, info = env.step(a)  # Step the environoment with the sampled random action"
   ]
  },
  {
   "cell_type": "code",
   "execution_count": 2,
   "id": "9f15ffb9",
   "metadata": {},
   "outputs": [
    {
     "name": "stdout",
     "output_type": "stream",
     "text": [
      "[ 0.580311    0.09503699  0.9568152  -0.12036865]\n",
      "[-0.4193244  -0.07903819 -0.8459707  -0.27766556]\n",
      "[ 0.38891986 -0.9515836  -0.9332733  -0.32035136]\n",
      "[ 0.9856988  0.4369246 -0.1919928  0.514529 ]\n",
      "[ 0.883176   0.5718357 -0.5556098 -0.9168673]\n",
      "[ 0.99100846 -0.88159376  0.16043359 -0.91327304]\n",
      "[-0.97689     0.34379756 -0.38026476 -0.81375676]\n",
      "[-0.18148555  0.3195472   0.58523893  0.4625986 ]\n",
      "[0.13986498 0.53738606 0.12113339 0.3536892 ]\n",
      "[ 0.5690891  -0.930703    0.54470885  0.11265346]\n"
     ]
    }
   ],
   "source": [
    "import metaworld\n",
    "import random\n",
    "\n",
    "ml10 = metaworld.ML10() # Construct the benchmark, sampling tasks\n",
    "\n",
    "training_envs = []\n",
    "for name, env_cls in ml10.train_classes.items():\n",
    "  env = env_cls()\n",
    "  task = random.choice([task for task in ml10.train_tasks\n",
    "                        if task.env_name == name])\n",
    "  env.set_task(task)\n",
    "  training_envs.append(env)\n",
    "\n",
    "for env in training_envs:\n",
    "  obs = env.reset()  # Reset environment\n",
    "  a = env.action_space.sample()  # Sample an action\n",
    "  obs, reward, done, info = env.step(a)  # Step the environoment with the sampled random action\n",
    "  print(a)"
   ]
  },
  {
   "cell_type": "code",
   "execution_count": 3,
   "id": "95fbcdbb",
   "metadata": {},
   "outputs": [],
   "source": [
    "import metaworld\n",
    "import random\n",
    "\n",
    "ml10 = metaworld.ML10() # Construct the benchmark, sampling tasks\n",
    "\n",
    "testing_envs = []\n",
    "for name, env_cls in ml10.test_classes.items():\n",
    "  env = env_cls()\n",
    "  task = random.choice([task for task in ml10.test_tasks\n",
    "                        if task.env_name == name])\n",
    "  env.set_task(task)\n",
    "  testing_envs.append(env)\n",
    "\n",
    "for env in testing_envs:\n",
    "  obs = env.reset()  # Reset environment\n",
    "  a = env.action_space.sample()  # Sample an action\n",
    "  obs, reward, done, info = env.step(a)  # Step the environoment with the sampled random action"
   ]
  },
  {
   "cell_type": "code",
   "execution_count": null,
   "id": "6d3bb003",
   "metadata": {},
   "outputs": [],
   "source": []
  }
 ],
 "metadata": {
  "kernelspec": {
   "display_name": "Python 3 (ipykernel)",
   "language": "python",
   "name": "python3"
  },
  "language_info": {
   "codemirror_mode": {
    "name": "ipython",
    "version": 3
   },
   "file_extension": ".py",
   "mimetype": "text/x-python",
   "name": "python",
   "nbconvert_exporter": "python",
   "pygments_lexer": "ipython3",
   "version": "3.8.16"
  }
 },
 "nbformat": 4,
 "nbformat_minor": 5
}
